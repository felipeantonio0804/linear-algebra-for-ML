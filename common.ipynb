{
 "cells": [
  {
   "cell_type": "code",
   "execution_count": 7,
   "metadata": {},
   "outputs": [],
   "source": [
    "def graficarVectores(vecs, cols, alpha = 1):\n",
    "    \n",
    "    plt.axvline(x = 0, color = \"grey\", zorder = 0)\n",
    "    plt.axhline(y = 0, color = \"grey\", zorder = 0)\n",
    "    \n",
    "    for i in range(len(vecs)):\n",
    "        x = np.concatenate([[0,0], vecs[i]])\n",
    "        plt.quiver([x[0]],\n",
    "                   [x[1]],\n",
    "                   [x[2]],\n",
    "                   [x[3]],\n",
    "                   angles = 'xy', scale_units = 'xy',\n",
    "                   scale = 1,\n",
    "                   color = cols[i],\n",
    "                   alpha = alpha\n",
    "                  )"
   ]
  },
  {
   "cell_type": "code",
   "execution_count": 8,
   "metadata": {},
   "outputs": [],
   "source": [
    "def graficarMatriz(matriz, vectorCol=['red', 'blue']):\n",
    "    \n",
    "    #circulo unitario\n",
    "    x = np.linspace(-1,1, 100000)\n",
    "    y = np.sqrt(1-(x**2))\n",
    "    \n",
    "    #circulo unitario transformado\n",
    "    x1 = matriz[0,0]*x + matriz[0,1]*y\n",
    "    y1 = matriz[1,0]*x + matriz[1,1]*y\n",
    "    x1_neg = matriz[0,0]*x - matriz[0,1]*y\n",
    "    y1_neg = matriz[1,0]*x - matriz[1,1]*y\n",
    "    \n",
    "    #vectores\n",
    "    u1 = [matriz[0,0], matriz[1,0]]\n",
    "    v1 = [matriz[0,1], matriz[1,1]]\n",
    "    \n",
    "    graficarVectores([u1, v1], cols=[vectorCol[0], vectorCol[1]])\n",
    "    \n",
    "    plt.plot(x1, y1, 'green', alpha = 0.7)\n",
    "    plt.plot(x1_neg, y1_neg, 'green', alpha = 0.7)"
   ]
  }
 ],
 "metadata": {
  "kernelspec": {
   "display_name": "Python 3.9.12 ('base')",
   "language": "python",
   "name": "python3"
  },
  "language_info": {
   "codemirror_mode": {
    "name": "ipython",
    "version": 3
   },
   "file_extension": ".py",
   "mimetype": "text/x-python",
   "name": "python",
   "nbconvert_exporter": "python",
   "pygments_lexer": "ipython3",
   "version": "3.9.12"
  },
  "orig_nbformat": 4,
  "vscode": {
   "interpreter": {
    "hash": "7620f3d2b8afebb785706a9b7e217b2047cf180856e78161a79fff84bf03db70"
   }
  }
 },
 "nbformat": 4,
 "nbformat_minor": 2
}
