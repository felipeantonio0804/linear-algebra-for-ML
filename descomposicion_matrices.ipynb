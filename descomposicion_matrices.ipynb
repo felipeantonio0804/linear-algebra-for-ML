{
 "cells": [
  {
   "cell_type": "markdown",
   "metadata": {},
   "source": [
    "### Descomposici****ó****n 1\n",
    "\n",
    "Pero en estos casos en función de la matriz de autovectores y autovalores."
   ]
  },
  {
   "cell_type": "code",
   "execution_count": 3,
   "metadata": {},
   "outputs": [
    {
     "name": "stdout",
     "output_type": "stream",
     "text": [
      "Matriz A:\n",
      " [[3 2]\n",
      " [4 1]] \n",
      "Matriz A calculada\n",
      " [[3. 2.]\n",
      " [4. 1.]]\n"
     ]
    }
   ],
   "source": [
    "import numpy as np\n",
    "\n",
    "A = np.array([[3,2],[4,1]])\n",
    "autovalores,autovectores = np.linalg.eig(A)\n",
    "A_calc = autovectores.dot(np.diag(autovalores)).dot(np.linalg.inv(autovectores))\n",
    "print('Matriz A:\\n',A,'\\nMatriz A calculada\\n',A_calc)"
   ]
  },
  {
   "cell_type": "markdown",
   "metadata": {},
   "source": [
    "### Descomposici****ó****n 2\n",
    "\n",
    "Que tengamos una matriz simétrica (A=A.T) y con números reales. Decimos que A = la matriz de autovectores producto punto la matriz diagonal con los autovalores, producto punto la transpuesta de la matriz de autovectores."
   ]
  },
  {
   "cell_type": "code",
   "execution_count": 5,
   "metadata": {},
   "outputs": [
    {
     "name": "stdout",
     "output_type": "stream",
     "text": [
      "[[ True  True]\n",
      " [ True  True]]\n",
      "Matriz A:\n",
      " [[3 2]\n",
      " [2 3]] \n",
      "Matriz A calculada\n",
      " [[3. 2.]\n",
      " [2. 3.]]\n"
     ]
    }
   ],
   "source": [
    "import numpy as np\n",
    "\n",
    "A = np.array([[3,2],[2,3]])\n",
    "#Cumpliendo restriccion\n",
    "print(A == A.T)\n",
    "autovalores,autovectores = np.linalg.eig(A)\n",
    "A_calc = autovectores.dot(np.diag(autovalores)).dot(autovectores.T)\n",
    "print('Matriz A:\\n',A,'\\nMatriz A calculada\\n',A_calc)"
   ]
  }
 ],
 "metadata": {
  "kernelspec": {
   "display_name": "Python 3.9.12 ('base')",
   "language": "python",
   "name": "python3"
  },
  "language_info": {
   "codemirror_mode": {
    "name": "ipython",
    "version": 3
   },
   "file_extension": ".py",
   "mimetype": "text/x-python",
   "name": "python",
   "nbconvert_exporter": "python",
   "pygments_lexer": "ipython3",
   "version": "3.9.12"
  },
  "orig_nbformat": 4,
  "vscode": {
   "interpreter": {
    "hash": "7620f3d2b8afebb785706a9b7e217b2047cf180856e78161a79fff84bf03db70"
   }
  }
 },
 "nbformat": 4,
 "nbformat_minor": 2
}
