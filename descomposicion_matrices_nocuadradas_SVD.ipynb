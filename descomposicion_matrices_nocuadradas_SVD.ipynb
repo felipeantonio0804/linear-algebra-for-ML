{
 "cells": [
  {
   "cell_type": "code",
   "execution_count": 32,
   "metadata": {},
   "outputs": [
    {
     "name": "stdout",
     "output_type": "stream",
     "text": [
      "[[4 3 2 2]\n",
      " [2 2 4 1]\n",
      " [4 4 4 3]]\n"
     ]
    }
   ],
   "source": [
    "import numpy as np\n",
    "A = np.random.randint(1, 5, size=(3,4))\n",
    "print(A)"
   ]
  },
  {
   "cell_type": "code",
   "execution_count": 33,
   "metadata": {},
   "outputs": [
    {
     "name": "stdout",
     "output_type": "stream",
     "text": [
      "(3, 3) (3, 4) (4, 4)\n",
      "Matriz original\n",
      " [[4 3 2 2]\n",
      " [2 2 4 1]\n",
      " [4 4 4 3]] \n",
      "Matriz calculada\n",
      " [[4. 3. 2. 2.]\n",
      " [2. 2. 4. 1.]\n",
      " [4. 4. 4. 3.]]\n"
     ]
    }
   ],
   "source": [
    "U,D,V = np.linalg.svd(A)\n",
    "#Matriz D de diagonales se debe de completar con 0 para que se pueda multiplicar con V, de acuerdo a la forma de este\n",
    "D = np.concatenate((np.diag(D),np.zeros(shape=(3,1))),axis=1)\n",
    "print(U.shape,D.shape,V.shape)\n",
    "A_calc = U.dot(D).dot(V)\n",
    "print('Matriz original\\n',A,'\\nMatriz calculada\\n',A_calc)"
   ]
  }
 ],
 "metadata": {
  "kernelspec": {
   "display_name": "Python 3.9.12 ('base')",
   "language": "python",
   "name": "python3"
  },
  "language_info": {
   "codemirror_mode": {
    "name": "ipython",
    "version": 3
   },
   "file_extension": ".py",
   "mimetype": "text/x-python",
   "name": "python",
   "nbconvert_exporter": "python",
   "pygments_lexer": "ipython3",
   "version": "3.9.12"
  },
  "orig_nbformat": 4,
  "vscode": {
   "interpreter": {
    "hash": "7620f3d2b8afebb785706a9b7e217b2047cf180856e78161a79fff84bf03db70"
   }
  }
 },
 "nbformat": 4,
 "nbformat_minor": 2
}
