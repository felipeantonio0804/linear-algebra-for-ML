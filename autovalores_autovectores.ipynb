{
 "cells": [
  {
   "cell_type": "markdown",
   "metadata": {},
   "source": [
    "### **Autovectores**\n",
    "\n",
    "Son vectores **cuya dirección** no se modifica al aplicarle la trasformación de una matriz, **el sentido y el tamaño sí puede variar**. El valor que transforma el vector inicial en el vector final se llama autovalor.\n",
    "\n",
    "**Notas:**\n",
    "\n",
    "- Sólo las matrices cuadradas tienen autovectores.\n",
    "- Hay tantos autovectores como la dimensión de la matriz"
   ]
  },
  {
   "cell_type": "code",
   "execution_count": 1,
   "metadata": {},
   "outputs": [],
   "source": [
    "%run ./common.ipynb\n",
    "import numpy as np\n",
    "import matplotlib.pyplot as plt"
   ]
  },
  {
   "cell_type": "code",
   "execution_count": 19,
   "metadata": {},
   "outputs": [
    {
     "name": "stdout",
     "output_type": "stream",
     "text": [
      "(2, 2) (2, 1)\n",
      "Autovector\n",
      " [[1]\n",
      " [1]] \n",
      "Vector transformado\n",
      " [[5]\n",
      " [5]]\n"
     ]
    },
    {
     "data": {
      "text/plain": [
       "(-1.0, 6.0)"
      ]
     },
     "execution_count": 19,
     "metadata": {},
     "output_type": "execute_result"
    },
    {
     "data": {
      "image/png": "[encoded data removed]",
      "text/plain": [
       "<Figure size 432x288 with 1 Axes>"
      ]
     },
     "metadata": {
      "needs_background": "light"
     },
     "output_type": "display_data"
    }
   ],
   "source": [
    "X = np.array([[3,2],[4,1]])\n",
    "v = np.array([[1],[1]])\n",
    "print(X.shape,v.shape)\n",
    "u = X.dot(v)\n",
    "print('Autovector\\n',v,'\\nVector transformado\\n',u)\n",
    "\n",
    "colors = ['#FF9A13','#1190FF']\n",
    "graficarVectores([u.flatten(),v.flatten()],cols=colors)\n",
    "plt.xlim(-1,6)\n",
    "plt.ylim(-1,6)"
   ]
  },
  {
   "cell_type": "code",
   "execution_count": 20,
   "metadata": {},
   "outputs": [
    {
     "name": "stdout",
     "output_type": "stream",
     "text": [
      "Autovector x Autovalor == VectorTransformado\n",
      " [[ True]\n",
      " [ True]]\n"
     ]
    }
   ],
   "source": [
    "autovalor = 5\n",
    "print('Autovector x Autovalor == VectorTransformado\\n',v*autovalor==u)"
   ]
  },
  {
   "cell_type": "code",
   "execution_count": 21,
   "metadata": {},
   "outputs": [
    {
     "name": "stdout",
     "output_type": "stream",
     "text": [
      "Autovector x Autovalor == VectorTransformado\n",
      " [ True  True]\n"
     ]
    },
    {
     "data": {
      "image/png": "[encoded data removed]",
      "text/plain": [
       "<Figure size 432x288 with 1 Axes>"
      ]
     },
     "metadata": {
      "needs_background": "light"
     },
     "output_type": "display_data"
    }
   ],
   "source": [
    "#Aqui provoca un cambio de sentido\n",
    "v = np.array([-1,2])\n",
    "u = X.dot(v)\n",
    "\n",
    "autovalor = -1\n",
    "graficarVectores([u.flatten(),v.flatten()],cols=colors)\n",
    "plt.xlim(-3,3)\n",
    "plt.ylim(-3,3)\n",
    "\n",
    "print('Autovector x Autovalor == VectorTransformado\\n',v*autovalor==u)\n"
   ]
  }
 ],
 "metadata": {
  "kernelspec": {
   "display_name": "Python 3.9.12 ('base')",
   "language": "python",
   "name": "python3"
  },
  "language_info": {
   "codemirror_mode": {
    "name": "ipython",
    "version": 3
   },
   "file_extension": ".py",
   "mimetype": "text/x-python",
   "name": "python",
   "nbconvert_exporter": "python",
   "pygments_lexer": "ipython3",
   "version": "3.9.12"
  },
  "orig_nbformat": 4,
  "vscode": {
   "interpreter": {
    "hash": "7620f3d2b8afebb785706a9b7e217b2047cf180856e78161a79fff84bf03db70"
   }
  }
 },
 "nbformat": 4,
 "nbformat_minor": 2
}
