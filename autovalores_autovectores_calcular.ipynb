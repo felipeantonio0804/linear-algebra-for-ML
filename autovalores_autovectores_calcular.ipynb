{
 "cells": [
  {
   "cell_type": "code",
   "execution_count": 1,
   "metadata": {},
   "outputs": [],
   "source": [
    "%run ./common.ipynb\n",
    "import numpy as np\n",
    "import matplotlib.pyplot as plt"
   ]
  },
  {
   "cell_type": "code",
   "execution_count": 27,
   "metadata": {},
   "outputs": [
    {
     "name": "stdout",
     "output_type": "stream",
     "text": [
      "Autovalores:\n",
      " [ 5. -1.] \n",
      "Autovectores:\n",
      " [[ 0.70710678 -0.4472136 ]\n",
      " [ 0.70710678  0.89442719]]\n"
     ]
    },
    {
     "data": {
      "text/plain": [
       "(-4.0, 4.0)"
      ]
     },
     "execution_count": 27,
     "metadata": {},
     "output_type": "execute_result"
    },
    {
     "data": {
      "image/png": "[encoded data removed]",
      "text/plain": [
       "<Figure size 432x288 with 1 Axes>"
      ]
     },
     "metadata": {
      "needs_background": "light"
     },
     "output_type": "display_data"
    }
   ],
   "source": [
    "from matplotlib.cbook import flatten\n",
    "\n",
    "\n",
    "X = np.array([[3,2],[4,1]])\n",
    "autovalores,autovectores = np.linalg.eig(X)\n",
    "print('Autovalores:\\n',autovalores,'\\nAutovectores:\\n',autovectores)\n",
    "#Vector de autovectores esta en forma [[x....xn],[y...yn]] por eso se saca la traspuesta\n",
    "u = X.dot(autovectores.T[0])\n",
    "v = X.dot(autovectores.T[1])\n",
    "\n",
    "#Vemos de que so se parece al autovector usando anteriormente como autovector, pero se grafica para verlos\n",
    "autovectorOriginal = np.array([-1,2])\n",
    "w = X.dot(autovectorOriginal)\n",
    "\n",
    "colors = ['orange','blue','green']\n",
    "graficarVectores([w.flatten(),u.flatten(),v.flatten()],cols=colors)\n",
    "plt.xlim(-4,4)\n",
    "plt.ylim(-4,4)"
   ]
  },
  {
   "cell_type": "code",
   "execution_count": 29,
   "metadata": {},
   "outputs": [
    {
     "data": {
      "text/plain": [
       "(-4.0, 4.0)"
      ]
     },
     "execution_count": 29,
     "metadata": {},
     "output_type": "execute_result"
    },
    {
     "data": {
      "image/png": "[encoded data removed]",
      "text/plain": [
       "<Figure size 432x288 with 1 Axes>"
      ]
     },
     "metadata": {
      "needs_background": "light"
     },
     "output_type": "display_data"
    }
   ],
   "source": [
    "graficarVectores([autovectorOriginal.flatten(),autovectores.T[0].flatten(),autovectores.T[1].flatten()],cols=colors)\n",
    "plt.xlim(-4,4)\n",
    "plt.ylim(-4,4)"
   ]
  }
 ],
 "metadata": {
  "kernelspec": {
   "display_name": "Python 3.9.12 ('base')",
   "language": "python",
   "name": "python3"
  },
  "language_info": {
   "codemirror_mode": {
    "name": "ipython",
    "version": 3
   },
   "file_extension": ".py",
   "mimetype": "text/x-python",
   "name": "python",
   "nbconvert_exporter": "python",
   "pygments_lexer": "ipython3",
   "version": "3.9.12"
  },
  "orig_nbformat": 4,
  "vscode": {
   "interpreter": {
    "hash": "7620f3d2b8afebb785706a9b7e217b2047cf180856e78161a79fff84bf03db70"
   }
  }
 },
 "nbformat": 4,
 "nbformat_minor": 2
}
